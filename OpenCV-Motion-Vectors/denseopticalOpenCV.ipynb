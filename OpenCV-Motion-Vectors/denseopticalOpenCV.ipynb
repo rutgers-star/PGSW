{
 "cells": [
  {
   "cell_type": "code",
   "execution_count": 3,
   "metadata": {},
   "outputs": [],
   "source": [
    "import numpy as np \n",
    "import cv2\n",
    "import time\n",
    "import imageio, imageio_ffmpeg\n",
    "from IPython.display import display, clear_output"
   ]
  },
  {
   "cell_type": "code",
   "execution_count": 11,
   "metadata": {},
   "outputs": [],
   "source": [
    "def draw_flow(img, flow, step=8, threshold=1.0):  # Added threshold parameter\n",
    "    scale = 5\n",
    "    h, w = img.shape[:2]\n",
    "    y, x = np.mgrid[step/2:h:step, step/2:w:step].reshape(2,-1).astype(int)\n",
    "    fx, fy = flow[y,x].T\n",
    "    magnitude = np.sqrt(fx**2 + fy**2)\n",
    "    mask = magnitude > threshold  # Filter out vectors below the threshold\n",
    "    fx, fy = fx[mask] * scale, fy[mask] * scale  # Scale the vectors\n",
    "    lines = np.vstack([x[mask], y[mask], x[mask]-fx, y[mask]-fy]).T.reshape(-1, 2, 2)\n",
    "    lines = np.int32(lines + 0.5)\n",
    "    img_bgr = cv2.cvtColor(img, cv2.COLOR_GRAY2BGR)\n",
    "    cv2.polylines(img_bgr, lines, 0, (0, 255, 0))\n",
    "    for (x1, y1), (_x2, _y2) in lines:\n",
    "        cv2.circle(img_bgr, (x1, y1), 1, (0, 255, 0), -1)\n",
    "    return img_bgr\n",
    "\n",
    "def draw_hsv(flow):\n",
    "    h, w = flow.shape[:2]\n",
    "    fx, fy = flow[:,:,0], flow[:,:,1]\n",
    "    ang = np.arctan2(fy, fx) + np.pi\n",
    "    v = np.sqrt(fx*fx+fy*fy)\n",
    "    hsv = np.zeros((h, w, 3), np.uint8)\n",
    "    hsv[...,0] = ang*(180/np.pi/2)\n",
    "    hsv[...,1] = 255\n",
    "    hsv[...,2] = np.minimum(v*4, 255)\n",
    "    bgr = cv2.cvtColor(hsv, cv2.COLOR_HSV2BGR)\n",
    "    return bgr"
   ]
  },
  {
   "cell_type": "code",
   "execution_count": 10,
   "metadata": {},
   "outputs": [
    {
     "name": "stdout",
     "output_type": "stream",
     "text": [
      "14.64 FPS\n"
     ]
    }
   ],
   "source": [
    "cap = cv2.VideoCapture(0)\n",
    "suc, prev = cap.read()\n",
    "prevgray = cv2.cvtColor(prev, cv2.COLOR_BGR2GRAY)\n",
    "\n",
    "while True:\n",
    "    suc, img = cap.read()\n",
    "    gray = cv2.cvtColor(img, cv2.COLOR_BGR2GRAY)\n",
    "    start = time.time()\n",
    "    flow = cv2.calcOpticalFlowFarneback(prevgray, gray, None, 0.5, 5, 15, 3, 7, 1.5, 0)  # Adjust parameters for sensitivity\n",
    "    prevgray = gray\n",
    "    end = time.time()\n",
    "    fps = 1 / (end-start)\n",
    "    clear_output(wait=True)\n",
    "    print(f\"{fps:.2f} FPS\")\n",
    "    cv2.imshow('flow', draw_flow(gray, flow, step=8, threshold=1.0))  # Pass threshold to draw_flow\n",
    "    cv2.imshow('flow HSV', draw_hsv(flow))\n",
    "    key = cv2.waitKey(5)\n",
    "    if key == ord('q'):\n",
    "        break\n",
    "\n",
    "cap.release()\n",
    "cv2.destroyAllWindows()"
   ]
  },
  {
   "cell_type": "code",
   "execution_count": 27,
   "metadata": {},
   "outputs": [
    {
     "name": "stdout",
     "output_type": "stream",
     "text": [
      "1.27 FPS\n"
     ]
    }
   ],
   "source": [
    "# Read the MP4 video\n",
    "video_path = 'LavaLamp.mp4'\n",
    "video = imageio.get_reader(video_path, 'ffmpeg')\n",
    "\n",
    "# Convert frames to grayscale\n",
    "gray_frames = [cv2.cvtColor(frame, cv2.COLOR_RGB2GRAY) for frame in video]\n",
    "\n",
    "# Initialize the previous frame\n",
    "prevgray = gray_frames[0]\n",
    "\n",
    "# Process each frame\n",
    "processed_frames = []\n",
    "for gray in gray_frames[1:100]:\n",
    "    start = time.time()\n",
    "    flow = cv2.calcOpticalFlowFarneback(prevgray, gray, None, 0.5, 5, 15, 3, 7, 1.5, 0)  # Adjust parameters for sensitivity\n",
    "    prevgray = gray\n",
    "    end = time.time()\n",
    "    fps = 1 / (end-start)\n",
    "    clear_output(wait=True)\n",
    "    print(f\"{fps:.2f} FPS\")\n",
    "    flow_frame = draw_flow(gray, flow, step=8, threshold=1.0)  # Pass threshold to draw_flow\n",
    "    processed_frames.append(flow_frame)\n",
    "\n",
    "# Save the processed frames as a new GIF\n",
    "output_gif_path = 'output.gif'\n",
    "imageio.mimsave(output_gif_path, processed_frames, duration=0.1)"
   ]
  },
  {
   "cell_type": "code",
   "execution_count": 12,
   "metadata": {},
   "outputs": [
    {
     "name": "stdout",
     "output_type": "stream",
     "text": [
      "12.33 FPS\n"
     ]
    }
   ],
   "source": [
    "# Read the GIF\n",
    "gif_path = 'Plop.gif'\n",
    "gif = imageio.mimread(gif_path, memtest=False)\n",
    "\n",
    "# Convert frames to grayscale\n",
    "gray_frames = [cv2.cvtColor(frame, cv2.COLOR_RGB2GRAY) for frame in gif]\n",
    "\n",
    "# Initialize the previous frame\n",
    "prevgray = gray_frames[0]\n",
    "\n",
    "# Process each frame\n",
    "processed_frames = []\n",
    "for gray in gray_frames[1:]:\n",
    "    start = time.time()\n",
    "    flow = cv2.calcOpticalFlowFarneback(prevgray, gray, None, 0.5, 5, 15, 3, 7, 1.5, 0)  # Adjust parameters for sensitivity\n",
    "    prevgray = gray\n",
    "    end = time.time()\n",
    "    fps = 1 / (end-start)\n",
    "    clear_output(wait=True)\n",
    "    print(f\"{fps:.2f} FPS\")\n",
    "    flow_frame = draw_flow(gray, flow, step=8, threshold=1.0)  # Pass threshold to draw_flow\n",
    "    processed_frames.append(flow_frame)\n",
    "\n",
    "# Save the processed frames as a new GIF\n",
    "output_gif_path = 'OutputPlop.gif'\n",
    "imageio.mimsave(output_gif_path, processed_frames, duration=0.1)"
   ]
  },
  {
   "cell_type": "code",
   "execution_count": 2,
   "metadata": {},
   "outputs": [
    {
     "name": "stdout",
     "output_type": "stream",
     "text": [
      "Note: you may need to restart the kernel to use updated packages.\n"
     ]
    }
   ],
   "source": [
    "pip list --format=freeze > requirements.txt"
   ]
  }
 ],
 "metadata": {
  "kernelspec": {
   "display_name": "STAR",
   "language": "python",
   "name": "python3"
  },
  "language_info": {
   "codemirror_mode": {
    "name": "ipython",
    "version": 3
   },
   "file_extension": ".py",
   "mimetype": "text/x-python",
   "name": "python",
   "nbconvert_exporter": "python",
   "pygments_lexer": "ipython3",
   "version": "3.12.9"
  }
 },
 "nbformat": 4,
 "nbformat_minor": 2
}
